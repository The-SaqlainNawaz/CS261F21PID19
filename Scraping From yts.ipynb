{
 "cells": [
  {
   "cell_type": "code",
   "execution_count": null,
   "id": "6b307aea",
   "metadata": {},
   "outputs": [],
   "source": [
    "from selenium import webdriver\n",
    "from bs4 import BeautifulSoup\n",
    "import re\n",
    "driver = webdriver.Chrome(executable_path='C:\\Users\\Hassan Nawaz\\Downloads\\Compressed\\chromedriver_win32chromedriver.exe')\n",
    "basic = 'https://yts.mx/browse-movies/0/all/all/0/featured/0/all'\n",
    "nextt = '?page=0'\n",
    "array=[]\n",
    "for i in range(1,3):\n",
    "    add=basic + nextt +str(i)\n",
    "    driver.get(add)\n",
    "    content = driver.page_source\n",
    "    soup = BeautifulSoup(content)\n",
    "#print (soup)\n",
    "    for a in soup.findAll('div',attrs={'class':'browse-movie-wrap col-xs-10 col-sm-4 col-md-5 col-lg-4'}):\n",
    "        name =a.find('div',attrs={'class':'browse-movie-bottom'}).find('a',attrs={'href': re.compile(\"^https://\")})\n",
    "        #print(name.get('href'))\n",
    "        driver.get(name.get('href'))\n",
    "        content = driver.page_source\n",
    "        soup = BeautifulSoup(content)\n",
    "        for b in soup.findAll('div',attrs={'class':'col-xs-10 col-sm-14 col-md-7 col-lg-8 col-lg-offset-1'}):\n",
    "            title=b.find('div',attrs={'class':'hidden-xs'}).find('h1').text\n",
    "            year=b.find('div',attrs={'class':'hidden-xs'}).findAll('h2')\n",
    "            rating=b.find('div',attrs={'class':'bottom-info'}).find('div',attrs={'itemprop':'aggregateRating'}).find('span',attrs={'itemprop':'ratingValue'}).text\n",
    "           \n",
    "            print()\n",
    "            print(title)\n",
    "            print()\n",
    "            print(year[0].text)\n",
    "            print(year[1].text)\n",
    "            print(rating)\n",
    "            print()\n",
    "        for c in soup.findAll('div',attrs={'class':'col-sm-10 col-md-7 col-lg-offset-1'}):\n",
    "            try:\n",
    "                director=c.find('div',attrs={'class':'directors'}).find('div',attrs={'class':'list-cast'}).find('div',attrs={'class':'list-cast-info tableCell'}).find('a',attrs={'class':'name-cast'}).find('span',attrs={'itemprop':'director'}).find('span',attrs={'itemprop':'name'}).text\n",
    "                print(director)\n",
    "            except:\n",
    "                director=\"unknown\"\n",
    "                print(director)\n",
    "            try:\n",
    "                actors=c.find('div',attrs={'class':'actors'}).findAll('div',attrs={'class':'list-cast'})\n",
    "                for i in range(len(actors)):\n",
    "                    ac1=[]\n",
    "                    ac1.append(actors[i].find('div',attrs={'class':'list-cast-info tableCell'}).find('span',attrs={'itemprop':'name'}).text)\n",
    "                    print(ac1)\n",
    "            except:\n",
    "                print(\"cast is unknown\")\n",
    "        for e in soup.findAll('div',attrs={'id':'movie-sub-info'}):\n",
    "                try:\n",
    "                    synop=e.find('div',attrs={'id':'synopsis'}).find('p',attrs={'class':'hidden-xs'}).text\n",
    "                    print(synop)\n",
    "                except:\n",
    "                    print(\"no synop\")"
   ]
  }
 ],
 "metadata": {
  "kernelspec": {
   "display_name": "Python 3",
   "language": "python",
   "name": "python3"
  },
  "language_info": {
   "codemirror_mode": {
    "name": "ipython",
    "version": 3
   },
   "file_extension": ".py",
   "mimetype": "text/x-python",
   "name": "python",
   "nbconvert_exporter": "python",
   "pygments_lexer": "ipython3",
   "version": "3.8.8"
  }
 },
 "nbformat": 4,
 "nbformat_minor": 5
}
